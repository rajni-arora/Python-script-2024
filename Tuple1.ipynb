{
  "nbformat": 4,
  "nbformat_minor": 0,
  "metadata": {
    "colab": {
      "provenance": [],
      "authorship_tag": "ABX9TyOHK85SFQNgXUxGUcsEfaxv",
      "include_colab_link": true
    },
    "kernelspec": {
      "name": "python3",
      "display_name": "Python 3"
    },
    "language_info": {
      "name": "python"
    }
  },
  "cells": [
    {
      "cell_type": "markdown",
      "metadata": {
        "id": "view-in-github",
        "colab_type": "text"
      },
      "source": [
        "<a href=\"https://colab.research.google.com/github/rajni-arora/Python-script-2024/blob/main/Tuple1.ipynb\" target=\"_parent\"><img src=\"https://colab.research.google.com/assets/colab-badge.svg\" alt=\"Open In Colab\"/></a>"
      ]
    },
    {
      "cell_type": "markdown",
      "source": [
        "## getsizeof()\n",
        "\n",
        "Belongs to the python's sys module."
      ],
      "metadata": {
        "id": "he6mnoCkKcsb"
      }
    },
    {
      "cell_type": "code",
      "source": [
        "import sys\n",
        "\n",
        "tuple1 = (\"A\", 1, \"B\", 2, \"C\", 3)\n",
        "tuple2 = (\"Geeks\", \"for\", \"Geeks\", \"Hema\", \"titu\", \"harshu\")\n",
        "tuple3 = ((1, \"Lion\"), (2, \"Tiger\"), (3, \"Fox\"), (4, \"wolf\"))"
      ],
      "metadata": {
        "id": "9CNJw8CXLAgD"
      },
      "execution_count": 4,
      "outputs": []
    },
    {
      "cell_type": "code",
      "source": [
        "print(\"Size of tuple1 - \" + str(sys.getsizeof(tuple1)))\n",
        "print(\"Size of tuple2 - \" + str(sys.getsizeof(tuple2)))\n",
        "print(\"Size of tuple3 - \" + str(sys.getsizeof(tuple3)))"
      ],
      "metadata": {
        "colab": {
          "base_uri": "https://localhost:8080/"
        },
        "id": "b03pKxWBMwm0",
        "outputId": "05c66b79-a0fb-4614-fb8e-3b8837b292d2"
      },
      "execution_count": 8,
      "outputs": [
        {
          "output_type": "stream",
          "name": "stdout",
          "text": [
            "Size of tuple1 - 88\n",
            "Size of tuple2 - 88\n",
            "Size of tuple3 - 72\n"
          ]
        }
      ]
    },
    {
      "cell_type": "markdown",
      "source": [
        "## __sizeof__()"
      ],
      "metadata": {
        "id": "erqiyllRNdft"
      }
    },
    {
      "cell_type": "code",
      "source": [
        "tuple1 = (\"A\", 1, \"B\", 2, \"C\", 3)\n",
        "print(str(tuple1.__sizeof__()) + \" bytes\")"
      ],
      "metadata": {
        "colab": {
          "base_uri": "https://localhost:8080/"
        },
        "id": "lvpuFeEhNC_r",
        "outputId": "5f539548-6c7b-4025-db56-78fd2e41e203"
      },
      "execution_count": 13,
      "outputs": [
        {
          "output_type": "stream",
          "name": "stdout",
          "text": [
            "72 bytes\n"
          ]
        }
      ]
    },
    {
      "cell_type": "markdown",
      "source": [
        "## Maximum and Miinimum of k elements in Tuple\n",
        "\n",
        "which means extract maximum of k and minimum of k. Exclude middle one.\n",
        "1. Sort + loop\n",
        "2. slicing + sorting"
      ],
      "metadata": {
        "id": "oZUZWQJROC_7"
      }
    },
    {
      "cell_type": "code",
      "source": [
        "# 1.\n",
        "test_tup = (3,7,1,18,9)\n",
        "k = 2\n",
        "res = []\n",
        "test_tup = list(sorted(test_tup))\n",
        "\n",
        "for idx, val in enumerate(test_tup):\n",
        "  if idx<k or idx>=len(test_tup)-k:\n",
        "    res.append(val)\n",
        "res = tuple(res)\n",
        "print(res)"
      ],
      "metadata": {
        "colab": {
          "base_uri": "https://localhost:8080/"
        },
        "id": "HRmiSY1QNzis",
        "outputId": "8aceb17a-b05e-4b3c-da2e-0e99840a2131"
      },
      "execution_count": 44,
      "outputs": [
        {
          "output_type": "stream",
          "name": "stdout",
          "text": [
            "(1, 3, 9, 18)\n"
          ]
        }
      ]
    },
    {
      "cell_type": "code",
      "source": [
        "# 2.\n",
        "test_tup = (5, 20, 3, 7, 6, 8)\n",
        "k = 2\n",
        "\n",
        "test_tup = list(sorted(test_tup))\n",
        "test_tup = tuple(test_tup[:2] + test_tup[4:])\n",
        "print(test_tup)"
      ],
      "metadata": {
        "colab": {
          "base_uri": "https://localhost:8080/"
        },
        "id": "PYTyk7E9URQj",
        "outputId": "79437dae-1437-4b94-90aa-e001c514974b"
      },
      "execution_count": 48,
      "outputs": [
        {
          "output_type": "stream",
          "name": "stdout",
          "text": [
            "(3, 5, 8, 20)\n"
          ]
        }
      ]
    },
    {
      "cell_type": "markdown",
      "source": [
        "## Sum of elements in Tuple"
      ],
      "metadata": {
        "id": "R2_BzBiTsjUK"
      }
    },
    {
      "cell_type": "code",
      "source": [
        "test_tup = (7, 8, 8, 9, 1 , 10, 7)\n",
        "test_tup = list(test_tup)\n",
        "sum = 0\n",
        "for i in test_tup:\n",
        "  sum = sum+i\n",
        "\n",
        "print(sum)"
      ],
      "metadata": {
        "colab": {
          "base_uri": "https://localhost:8080/"
        },
        "id": "Gerp6pkVUSrO",
        "outputId": "02812797-fb78-48bf-eb03-7f87c596530f"
      },
      "execution_count": 50,
      "outputs": [
        {
          "output_type": "stream",
          "name": "stdout",
          "text": [
            "50\n"
          ]
        }
      ]
    },
    {
      "cell_type": "markdown",
      "source": [
        "## Sum of elements thru Reduce()"
      ],
      "metadata": {
        "id": "6UrUL7gMDB_q"
      }
    },
    {
      "cell_type": "code",
      "source": [
        "import operator\n",
        "from functools import reduce\n",
        "\n",
        "def summation(test_tum):\n",
        "  return reduce(operator.add, test_tup)\n",
        "\n",
        "test_tup = (1,2,3,4,5,6,7)\n",
        "print(summation(test_tup))"
      ],
      "metadata": {
        "colab": {
          "base_uri": "https://localhost:8080/"
        },
        "id": "4zdB_h-1V0jT",
        "outputId": "e8d09190-f9b7-49d2-8518-005ce2593e98"
      },
      "execution_count": 56,
      "outputs": [
        {
          "output_type": "stream",
          "name": "stdout",
          "text": [
            "28\n"
          ]
        }
      ]
    },
    {
      "cell_type": "markdown",
      "source": [
        "## Sum of elements thru Numpy()"
      ],
      "metadata": {
        "id": "p01wFqI3Dpv-"
      }
    },
    {
      "cell_type": "code",
      "source": [
        "import numpy as np\n",
        "\n",
        "test_tup = (1,2,3,4,5)\n",
        "test_array = np.array(test_tup)\n",
        "print(test_array)\n",
        "\n",
        "res = np.sum(test_array)\n",
        "print(res)"
      ],
      "metadata": {
        "colab": {
          "base_uri": "https://localhost:8080/"
        },
        "id": "IgIksiOOvZFs",
        "outputId": "f55ad8cb-4ba8-4e25-e231-14245d705f3a"
      },
      "execution_count": 62,
      "outputs": [
        {
          "output_type": "stream",
          "name": "stdout",
          "text": [
            "[1 2 3 4 5]\n",
            "15\n"
          ]
        }
      ]
    },
    {
      "cell_type": "markdown",
      "source": [
        "## Row-wise element addition in Tuple Matrix"
      ],
      "metadata": {
        "id": "D4N41x4tFLMm"
      }
    },
    {
      "cell_type": "code",
      "source": [
        "test_list = [(5,6),(5,7),(5,10),(6,8),(6,10),(7,13)]\n",
        "res = []\n",
        "for sub in test_list:\n",
        "  if res and res[-1][0] == sub[0]:\n",
        "    print(\"res\",res)\n",
        "    print(\"res[-1][0]--\",res[-1][0])\n",
        "    res[-1].extend(sub[1:])\n",
        "  else:\n",
        "    res.append([ele for ele in sub])\n",
        "\n",
        "res = list(map(tuple, res))\n",
        "\n",
        "print(str(res))\n",
        "\n",
        "\n"
      ],
      "metadata": {
        "colab": {
          "base_uri": "https://localhost:8080/"
        },
        "id": "OgclOJAJD37z",
        "outputId": "5b33b000-bf44-4406-fb21-6042742eb94d"
      },
      "execution_count": 72,
      "outputs": [
        {
          "output_type": "stream",
          "name": "stdout",
          "text": [
            "res [[5, 6]]\n",
            "res[-1][0]-- 5\n",
            "res [[5, 6, 7]]\n",
            "res[-1][0]-- 5\n",
            "res [[5, 6, 7, 10], [6, 8]]\n",
            "res[-1][0]-- 6\n",
            "[(5, 6, 7, 10), (6, 8, 10), (7, 13)]\n"
          ]
        }
      ]
    },
    {
      "cell_type": "code",
      "source": [],
      "metadata": {
        "id": "E9JgTxzlEAXb"
      },
      "execution_count": null,
      "outputs": []
    },
    {
      "cell_type": "code",
      "source": [],
      "metadata": {
        "id": "g6mqyIAOFu3m"
      },
      "execution_count": null,
      "outputs": []
    }
  ]
}